{
 "cells": [
  {
   "attachments": {},
   "cell_type": "markdown",
   "metadata": {},
   "source": [
    "# Pymaceuticals Inc.\n",
    "---\n",
    "\n",
    "### Analysis\n",
    "\n",
    "- Add your analysis here.\n",
    " "
   ]
  },
  {
   "cell_type": "code",
   "execution_count": null,
   "metadata": {},
   "outputs": [],
   "source": [
    "# Dependencies and Setup\n",
    "%matplotlib widget\n",
    "\n",
    "import matplotlib.pyplot as plt\n",
    "import pandas as pd\n",
    "import scipy.stats as st\n",
    "import numpy as np\n",
    "\n",
    "# Study data files\n",
    "mouse_metadata_path = \"data/Mouse_metadata.csv\"\n",
    "study_results_path = \"data/Study_results.csv\"\n",
    "\n",
    "# Read the mouse data and the study results\n",
    "mouse_metadata = pd.read_csv(mouse_metadata_path)\n",
    "study_results = pd.read_csv(study_results_path)\n",
    "\n",
    "# Combine the data into a single DataFrame\n",
    "combined_data = pd.merge(study_results, mouse_metadata, how=\"left\", on=['Mouse ID', 'Mouse ID'])\n",
    "\n",
    "# Display the data table for preview\n",
    "combined_data.head(5)"
   ]
  },
  {
   "cell_type": "code",
   "execution_count": null,
   "metadata": {},
   "outputs": [],
   "source": [
    "# Checking the number of mice.\n",
    "unique_mice_id = combined_data['Mouse ID'].unique()\n",
    "# print(unique_mice_id)\n",
    "mice_count = len(unique_mice_id)\n",
    "mice_count"
   ]
  },
  {
   "cell_type": "code",
   "execution_count": null,
   "metadata": {},
   "outputs": [],
   "source": [
    "# Our data should be uniquely identified by Mouse ID and Timepoint\n",
    "# Get the duplicate mice by ID number that shows up for Mouse ID and Timepoint. \n",
    "combined_data.duplicated([\"Mouse ID\", \"Timepoint\"]) #boolean array\n",
    "combined_data.loc[combined_data.duplicated([\"Mouse ID\", \"Timepoint\"])]['Mouse ID'].unique()\n"
   ]
  },
  {
   "cell_type": "code",
   "execution_count": null,
   "metadata": {},
   "outputs": [],
   "source": [
    "# Optional: Get all the data for the duplicate mouse ID. \n",
    "combined_data.loc[combined_data['Mouse ID'] == \"g989\"]"
   ]
  },
  {
   "cell_type": "code",
   "execution_count": null,
   "metadata": {},
   "outputs": [],
   "source": [
    "# Create a clean DataFrame by dropping the duplicate mouse by its ID.\n",
    "clean_data = combined_data.loc[combined_data[\"Mouse ID\"] != \"g989\"]\n",
    "# clean_data"
   ]
  },
  {
   "cell_type": "code",
   "execution_count": null,
   "metadata": {},
   "outputs": [],
   "source": [
    "# Checking the number of mice in the clean DataFrame.\n",
    "count = len(clean_data['Mouse ID'].unique())\n",
    "count"
   ]
  },
  {
   "cell_type": "markdown",
   "metadata": {},
   "source": [
    "## Summary Statistics"
   ]
  },
  {
   "cell_type": "code",
   "execution_count": null,
   "metadata": {},
   "outputs": [],
   "source": [
    "# Generate a summary statistics table of mean, median, variance, standard deviation, and SEM of the tumor volume for each regimen\n",
    "\n",
    "# Use groupby and summary statistical methods to calculate the following properties of each drug regimen: \n",
    "# mean, median, variance, standard deviation, and SEM of the tumor volume. \n",
    "# Assemble the resulting series into a single summary DataFrame.\n",
    "\n",
    "drug_regimen_groupby = clean_data.groupby(['Drug Regimen'])\n",
    "drug_regimen_groupby_mean = drug_regimen_groupby['Tumor Volume (mm3)'].mean()\n",
    "drug_regimen_groupby_median = drug_regimen_groupby['Tumor Volume (mm3)'].median()\n",
    "drug_regimen_groupby_var = drug_regimen_groupby['Tumor Volume (mm3)'].var()\n",
    "drug_regimen_groupby_std = drug_regimen_groupby['Tumor Volume (mm3)'].std()\n",
    "drug_regimen_groupby_sem = drug_regimen_groupby['Tumor Volume (mm3)'].sem()\n",
    "\n",
    "summary_df = pd.DataFrame((\n",
    "    {\n",
    "     \"Mean Tumor Volume\": drug_regimen_groupby_mean,\n",
    "     \"Median Tumor Volume\": drug_regimen_groupby_median,\n",
    "     \"Tumor Volume Variance\": drug_regimen_groupby_var,\n",
    "     \"Tumor Volume Std. Dev.\": drug_regimen_groupby_std,\n",
    "     \"Tumor Volume Std. Err.\" : drug_regimen_groupby_sem,\n",
    "    })\n",
    ")\n",
    "summary_df\n",
    "\n",
    "# drug_regimen_tumor_vol_mean = clean_data.groupby(['Drug Regimen']).mean()['Tumor Volume (mm3)']\n",
    "# drug_regimen_tumor_vol_median = clean_data.groupby(['Drug Regimen']).median()['Tumor Volume (mm3)']\n",
    "# drug_regimen_tumor_vol_var = clean_data.groupby(['Drug Regimen']).var()['Tumor Volume (mm3)']\n",
    "# drug_regimen_tumor_vol_std = clean_data.groupby(['Drug Regimen']).std()['Tumor Volume (mm3)']\n",
    "# drug_regimen_tumor_vol_sem = clean_data.groupby(['Drug Regimen']).sem()['Tumor Volume (mm3)']"
   ]
  },
  {
   "cell_type": "code",
   "execution_count": null,
   "metadata": {},
   "outputs": [],
   "source": [
    "# A more advanced method to generate a summary statistics table of mean, median, variance, standard deviation, and SEM of the tumor volume for each regimen (only one method is required in the solution)\n",
    "\n",
    "# Using the aggregation method, produce the same summary statistics in a single line\n",
    "# reference the following site: https://stackoverflow.com/questions/55388610/how-to-calculate-aggregated-summary-statistics-in-pandas-dataframe\n",
    "summary_df_two = clean_data.groupby(['Drug Regimen']).agg({'Tumor Volume (mm3)':['mean', 'median', 'var', 'std', 'sem']})\n",
    "summary_df_two"
   ]
  },
  {
   "cell_type": "markdown",
   "metadata": {},
   "source": [
    "## Bar and Pie Charts"
   ]
  },
  {
   "cell_type": "code",
   "execution_count": null,
   "metadata": {},
   "outputs": [],
   "source": [
    "# Generate a bar plot showing the total number of rows (Mouse ID/Timepoints) for each drug regimen using Pandas.\n",
    "pandas_bar_chart_info = clean_data[['Drug Regimen','Timepoint']]\n",
    "pandas_bar_chart_info = pandas_bar_chart_info.set_index(\"Drug Regimen\")\n",
    "pandas_bar_chart_info = pandas_bar_chart_info.groupby(['Drug Regimen']).count().sort_values(by=['Timepoint'], ascending=False)\n",
    "pandas_bar_chart_info.plot(kind=\"bar\", figsize=(6,3.5), ylabel=\"# of Observed Mouse Timepoints\", legend=False, title=\"Numbers of Mouse treated with Differnet Drug Regimen\")\n",
    "plt.show()\n",
    "plt.tight_layout()\n"
   ]
  },
  {
   "cell_type": "code",
   "execution_count": null,
   "metadata": {},
   "outputs": [],
   "source": [
    "# Generate a bar plot showing the total number of rows (Mouse ID/Timepoints) for each drug regimen using pyplot.\n",
    "timepoint_count = pandas_bar_chart_info.iloc[:, 0]\n",
    "print(len(timepoint_count))\n",
    "x_axis = np.arange(len(timepoint_count))\n",
    "\n",
    "plt.bar(x_axis, timepoint_count, color='blue', align=\"center\")\n",
    "plt.title(\"Numbers of Mouse treated with Differnet Drug Regimen\")\n",
    "plt.show()"
   ]
  },
  {
   "cell_type": "code",
   "execution_count": null,
   "metadata": {},
   "outputs": [],
   "source": [
    "# Generate a pie plot showing the distribution of female versus male mice using Pandas\n",
    "\n",
    "gender_data = clean_data[\"Sex\"].value_counts()\n",
    "#print(gender_data)\n",
    "\n",
    "gender_data.plot.pie(autopct= \"%1.1f%%\", legend=False)\n",
    "plt.title('Percentage of Male vs. Female Mouse')\n",
    "plt.show()\n"
   ]
  },
  {
   "cell_type": "code",
   "execution_count": null,
   "metadata": {},
   "outputs": [],
   "source": [
    "# Generate a pie plot showing the distribution of female versus male mice using pyplot\n",
    "\n",
    "pie_labels = ['Male', 'Female']\n",
    "\n",
    "pie_sizes = clean_data[\"Sex\"].value_counts()\n",
    "\n",
    "plt.pie(pie_sizes, labels=pie_labels,\n",
    "        autopct=\"%1.1f%%\")\n",
    "plt.title('Percentage of Male vs. Female Mouse', verticalalignment=\"center_baseline\", loc=\"left\")\n",
    "plt.show()"
   ]
  },
  {
   "cell_type": "markdown",
   "metadata": {},
   "source": [
    "## Quartiles, Outliers and Boxplots"
   ]
  },
  {
   "cell_type": "code",
   "execution_count": null,
   "metadata": {},
   "outputs": [],
   "source": [
    "# Calculate the final tumor volume of each mouse across four of the treatment regimens:  \n",
    "# Capomulin, Ramicane, Infubinol, and Ceftamin\n",
    "capomulin_mouse = clean_data.loc[clean_data['Drug Regimen'] == \"Capomulin\"]\n",
    "ramicane_mouse = clean_data.loc[clean_data['Drug Regimen'] == \"Ramicane\"]\n",
    "infubinol_mouse = clean_data.loc[clean_data['Drug Regimen'] == \"Infubinol\"]\n",
    "ceftamin_mouse = clean_data.loc[clean_data['Drug Regimen'] == \"Ceftamin\"]\n",
    "\n",
    "# Start by getting the last (greatest) timepoint for each mouse\n",
    "capomulin_mouse_max_times = capomulin_mouse.groupby([\"Mouse ID\"]).max()['Timepoint']\n",
    "ramicane_mouse_max_times = ramicane_mouse.groupby([\"Mouse ID\"]).max()['Timepoint']\n",
    "infubinol_mouse_max_times = infubinol_mouse.groupby([\"Mouse ID\"]).max()['Timepoint']\n",
    "ceftamin_mouse_max_times = ceftamin_mouse.groupby([\"Mouse ID\"]).max()['Timepoint']\n",
    "# ramicane_mouse_max_times\n",
    "\n",
    "\n",
    "# Merge this group df with the original DataFrame to get the tumor volume at the last timepoint\n"
   ]
  },
  {
   "cell_type": "code",
   "execution_count": null,
   "metadata": {},
   "outputs": [],
   "source": [
    "# Put treatments into a list for for loop (and later for plot labels)\n",
    "\n",
    "\n",
    "# Create empty list to fill with tumor vol data (for plotting)\n",
    "\n",
    "\n",
    "# Calculate the IQR and quantitatively determine if there are any potential outliers. \n",
    "\n",
    "    \n",
    "    # Locate the rows which contain mice on each drug and get the tumor volumes\n",
    "\n",
    "    \n",
    "    # add subset \n",
    "\n",
    "    \n",
    "    # Determine outliers using upper and lower bounds\n"
   ]
  },
  {
   "cell_type": "code",
   "execution_count": null,
   "metadata": {},
   "outputs": [],
   "source": [
    "# Generate a box plot that shows the distrubution of the tumor volume for each treatment group.\n"
   ]
  },
  {
   "cell_type": "markdown",
   "metadata": {},
   "source": [
    "## Line and Scatter Plots"
   ]
  },
  {
   "cell_type": "code",
   "execution_count": null,
   "metadata": {},
   "outputs": [],
   "source": [
    "# Generate a line plot of tumor volume vs. time point for a single mouse treated with Capomulin\n",
    "\n",
    "# Finding a randam mice treated with Capomulin\n",
    "find_single_mice_capomulin = clean_data.groupby('Drug Regimen').min()\n",
    "# print(find_single_mice_capomulin)\n",
    "\n",
    "single_mice_capomulin = combined_data.loc[combined_data['Mouse ID'] == \"b128\"]\n",
    "#print(single_mice_capomulin)\n",
    "\n",
    "x_axis = np.arange(0, 50, 5)\n",
    "#print(x_axis)\n",
    "\n",
    "tumor_vol = []\n",
    "\n",
    "test = single_mice_capomulin.iloc[0,2]\n",
    "tumor = 0 \n",
    "\n",
    "for tumor in range(10):\n",
    "    store_tumor_vol = single_mice_capomulin.iloc[tumor,2]\n",
    "    tumor_vol.append(store_tumor_vol)\n",
    "\n",
    "plt.plot(x_axis, tumor_vol, color=\"blue\")\n",
    "plt.xlabel(\"Timepoint (days)\")\n",
    "plt.ylabel(\"Tumor Volume (mm3)\")\n",
    "plt.title(\"Capomulin treatment on mouse b128\")\n",
    "plt.show()"
   ]
  },
  {
   "cell_type": "code",
   "execution_count": null,
   "metadata": {},
   "outputs": [],
   "source": [
    "# Generate a scatter plot of mouse weight vs. the average observed tumor volume for the entire Capomulin regimen\n",
    "mouse_treated_with_capomulin = clean_data.loc[clean_data['Drug Regimen'] == \"Capomulin\"]\n",
    "\n",
    "mouse_treated_with_capomulin_mean = mouse_treated_with_capomulin.groupby(['Mouse ID']).mean()\n",
    "\n",
    "columns_wanted = mouse_treated_with_capomulin_mean[['Tumor Volume (mm3)', 'Weight (g)']]\n",
    "\n",
    "# Turn a pandas dataframe into a list --> https://www.geeksforgeeks.org/get-a-list-of-a-specified-column-of-a-pandas-dataframe/#\n",
    "tumor_vol_list = columns_wanted[\"Tumor Volume (mm3)\"].tolist()\n",
    "mice_weight_list = columns_wanted[\"Weight (g)\"].tolist()\n",
    "\n",
    "# I tried looping through the columns_wanted dataframe, but it was not working out\n",
    "# num_mice = len(columns_wanted['Weight (g)'])\n",
    "# x = 0\n",
    "# tumor_vol_list = []\n",
    "# mice_weight_list = []\n",
    "\n",
    "# for x in num_mice:\n",
    "#     store_tumor_vol = columns_wanted.iloc[x, 0]\n",
    "#     tumor_vol_list.append(store_tumor_vol)\n",
    "\n",
    "#     store_weight = columns_wanted.iloc[x, 1]\n",
    "#     mice_weight_list.append(store_weight)\n",
    "\n",
    "# print(tumor_vol_list)\n",
    "# print(mice_weight_list)\n",
    "\n",
    "plt.scatter(mice_weight_list, tumor_vol_list, marker=\"o\", facecolors=\"blue\", edgecolors=\"black\",\n",
    "            alpha=0.75)\n",
    "plt.xlabel('Weight (g)')\n",
    "plt.ylabel('Average Tumor Volume (mm3)')\n",
    "plt.title('Weight of each Mouse vs Tumor Volume for Mouse Treated with Capomulin')\n",
    "plt.show()\n"
   ]
  },
  {
   "cell_type": "markdown",
   "metadata": {},
   "source": [
    "## Correlation and Regression"
   ]
  },
  {
   "cell_type": "code",
   "execution_count": null,
   "metadata": {},
   "outputs": [],
   "source": [
    "# Calculate the correlation coefficient and a linear regression model \n",
    "# for mouse weight and average observed tumor volume for the entire Capomulin regimen\n"
   ]
  },
  {
   "cell_type": "code",
   "execution_count": null,
   "metadata": {},
   "outputs": [],
   "source": []
  }
 ],
 "metadata": {
  "anaconda-cloud": {},
  "kernelspec": {
   "display_name": "PythonData",
   "language": "python",
   "name": "python3"
  },
  "language_info": {
   "codemirror_mode": {
    "name": "ipython",
    "version": 3
   },
   "file_extension": ".py",
   "mimetype": "text/x-python",
   "name": "python",
   "nbconvert_exporter": "python",
   "pygments_lexer": "ipython3",
   "version": "3.10.12"
  }
 },
 "nbformat": 4,
 "nbformat_minor": 4
}
